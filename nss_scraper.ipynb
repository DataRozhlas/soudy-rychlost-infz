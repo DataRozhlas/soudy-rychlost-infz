{
 "cells": [
  {
   "cell_type": "code",
   "execution_count": 11,
   "metadata": {},
   "outputs": [],
   "source": [
    "import pandas as pd\n",
    "import requests\n",
    "from bs4 import BeautifulSoup\n"
   ]
  },
  {
   "cell_type": "code",
   "execution_count": 2,
   "metadata": {},
   "outputs": [],
   "source": [
    "lis = pd.read_excel('./data/infz.xls')"
   ]
  },
  {
   "cell_type": "code",
   "execution_count": 4,
   "metadata": {},
   "outputs": [
    {
     "data": {
      "text/plain": [
       "MS Praha            237\n",
       "KS Brno              63\n",
       "KS Hr. Králové       32\n",
       "KS Ústí n. Labem     27\n",
       "KS Ostrava           19\n",
       "KS Plzeň             15\n",
       "KS Č. Budějovice     11\n",
       "KS Praha              8\n",
       "Name: Soud, dtype: int64"
      ]
     },
     "execution_count": 4,
     "metadata": {},
     "output_type": "execute_result"
    }
   ],
   "source": [
    "lis.Soud.value_counts()"
   ]
  },
  {
   "cell_type": "code",
   "execution_count": null,
   "metadata": {},
   "outputs": [],
   "source": [
    "ks = {\n",
    "    'KS Brno': ['1'],\n",
    "    'KS Č. Budějovice': ['3'],\n",
    "    'KS Hr. Králové': ['2', '10'],\n",
    "    'KS Ostrava': ['5', '11'],\n",
    "    'KS Plzeň': ['6'],\n",
    "    'KS Praha': ['8'],\n",
    "    'KS Ústí n. Labem': ['4', '9'],\n",
    "    'MS Praha': ['7']\n",
    "}"
   ]
  },
  {
   "cell_type": "code",
   "execution_count": 9,
   "metadata": {},
   "outputs": [],
   "source": [
    "import requests\n",
    "\n",
    "cookies = {\n",
    "    'ASP.NET_SessionId': 'vjtg2nyd34wr1edvfi52q5de',\n",
    "    'CultRS': 'cs-CZ',\n",
    "    '__utma': '263122579.1433109297.1531397462.1531397462.1531397462.1',\n",
    "    '__utmc': '263122579',\n",
    "    '__utmz': '263122579.1531397462.1.1.utmcsr=(direct)|utmccn=(direct)|utmcmd=(none)',\n",
    "}\n",
    "\n",
    "headers = {\n",
    "    'Connection': 'keep-alive',\n",
    "    'Cache-Control': 'max-age=0',\n",
    "    'Origin': 'http://nssoud.cz',\n",
    "    'Upgrade-Insecure-Requests': '1',\n",
    "    'DNT': '1',\n",
    "    'Content-Type': 'application/x-www-form-urlencoded',\n",
    "    'User-Agent': 'Mozilla/5.0 (Windows NT 10.0; Win64; x64) AppleWebKit/537.36 (KHTML, like Gecko) Chrome/67.0.3396.99 Safari/537.36',\n",
    "    'Accept': 'text/html,application/xhtml+xml,application/xml;q=0.9,image/webp,image/apng,*/*;q=0.8',\n",
    "    'Referer': 'http://nssoud.cz/main0Col.aspx?cls=JudikaturaSimpleSearch&pageSource=0&menu=188',\n",
    "    'Accept-Encoding': 'gzip, deflate',\n",
    "    'Accept-Language': 'en-US,en;q=0.9,cs;q=0.8,et;q=0.7',\n",
    "}\n",
    "\n",
    "params = (\n",
    "    ('cls', 'JudikaturaSimpleSearch'),\n",
    "    ('pageSource', '0'),\n",
    "    ('menu', '188'),\n",
    ")\n",
    "\n",
    "data = [\n",
    "  ('__EVENTTARGET', ''),\n",
    "  ('__EVENTARGUMENT', ''),\n",
    "  ('__VIEWSTATE', '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'),\n",
    "  ('__VIEWSTATEGENERATOR', '4E888F31'),\n",
    "  ('_ctl0:wucFind1:TBWE1_ClientState', ''),\n",
    "  ('_ctl0:wucFind1:fFULLTEXT', ''),\n",
    "  ('_ctl0:ContentPlaceMasterPage:_ctl0:ddlSoud', '13'),\n",
    "  ('_ctl0:ContentPlaceMasterPage:_ctl0:txtSenat', ''),\n",
    "  ('_ctl0:ContentPlaceMasterPage:_ctl0:ddlRejstrik', '-1'),\n",
    "  ('_ctl0:ContentPlaceMasterPage:_ctl0:txtCislo', ''),\n",
    "  ('_ctl0:ContentPlaceMasterPage:_ctl0:TextRok', ''),\n",
    "  ('_ctl0:ContentPlaceMasterPage:_ctl0:txtSpisovaZnackaFull', '7 As 22/2018'),\n",
    "  ('_ctl0:ContentPlaceMasterPage:_ctl0:btnFind', ''),\n",
    "  ('_ctl0:ContentPlaceMasterPage:_ctl0:hdfRozIDs', ''),\n",
    "  ('_ctl0:ContentPlaceMasterPage:_ctl0:ddlRowCount', '10'),\n",
    "]\n",
    "\n",
    "response = requests.post('http://nssoud.cz/main0Col.aspx', headers=headers, params=params, cookies=cookies, data=data)\n",
    "\n",
    "#NB. Original query string below. It seems impossible to parse and\n",
    "#reproduce query strings 100% accurately so the one below is given\n",
    "#in case the reproduced version is not \"correct\".\n",
    "# response = requests.post('http://nssoud.cz/main0Col.aspx?cls=JudikaturaSimpleSearch&pageSource=0&menu=188', headers=headers, cookies=cookies, data=data)\n"
   ]
  },
  {
   "cell_type": "code",
   "execution_count": 12,
   "metadata": {},
   "outputs": [],
   "source": [
    "soup = BeautifulSoup(response.text, 'html.parser')"
   ]
  },
  {
   "cell_type": "code",
   "execution_count": 18,
   "metadata": {},
   "outputs": [
    {
     "data": {
      "text/plain": [
       "'files/SOUDNI_VYKON/2018/0022_7As__1800047_20180222144643_20180226144014_prevedeno.pdf'"
      ]
     },
     "execution_count": 18,
     "metadata": {},
     "output_type": "execute_result"
    }
   ],
   "source": [
    "soup.find_all('a', title='Anonymizovaná verze rozhodnutí')[0].get('href')"
   ]
  }
 ],
 "metadata": {
  "kernelspec": {
   "display_name": "Python 3",
   "language": "python",
   "name": "python3"
  },
  "language_info": {
   "codemirror_mode": {
    "name": "ipython",
    "version": 3
   },
   "file_extension": ".py",
   "mimetype": "text/x-python",
   "name": "python",
   "nbconvert_exporter": "python",
   "pygments_lexer": "ipython3",
   "version": "3.6.5"
  }
 },
 "nbformat": 4,
 "nbformat_minor": 2
}
